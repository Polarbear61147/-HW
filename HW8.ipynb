{
 "cells": [
  {
   "cell_type": "code",
   "execution_count": 2,
   "metadata": {},
   "outputs": [],
   "source": [
    "%matplotlib inline\n",
    "\n",
    "import numpy as np\n",
    "import matplotlib.pyplot as plt"
   ]
  },
  {
   "cell_type": "markdown",
   "metadata": {},
   "source": [
    "<font face=\"微軟正黑\" size=5 > 定義一個 $R$ <sup>2</sup>的affine subspace $L=x_0+U$"
   ]
  },
  {
   "cell_type": "code",
   "execution_count": 81,
   "metadata": {},
   "outputs": [
    {
     "data": {
      "text/plain": [
       "<matplotlib.lines.Line2D at 0x20c24356848>"
      ]
     },
     "execution_count": 81,
     "metadata": {},
     "output_type": "execute_result"
    },
    {
     "data": {
      "image/png": "[encoded data removed]",
      "text/plain": [
       "<Figure size 432x288 with 1 Axes>"
      ]
     },
     "metadata": {
      "needs_background": "light"
     },
     "output_type": "display_data"
    }
   ],
   "source": [
    "x0 = np.array([[20],[0]])\n",
    "U = np.array([[5],[3]])\n",
    "points = np.linspace(-20,20,500)\n",
    "Lx = []\n",
    "Ly = []\n",
    "\n",
    "\n",
    "for i in points:\n",
    "    L =  x0 + np.dot(i,U)\n",
    "    plt.scatter(L[0],L[1],s=5,c='blue')\n",
    "    Lx.append(L[0])\n",
    "    Ly.append(L[1])\n",
    "    \n",
    "L = np.array([Lx, Ly]).T\n",
    "\n",
    "plt.axvline(0, c='black')\n",
    "plt.axhline(0, c='black')"
   ]
  },
  {
   "cell_type": "markdown",
   "metadata": {},
   "source": [
    " "
   ]
  },
  {
   "cell_type": "markdown",
   "metadata": {},
   "source": [
    "<font face=\"微軟正黑\" size=5 > 定義一個affine mapping $Φ:R$<sup>2</sup> $→$ $R$<sup>2</sup>\n",
    "    fs"
   ]
  },
  {
   "cell_type": "code",
   "execution_count": 89,
   "metadata": {},
   "outputs": [
    {
     "data": {
      "text/plain": [
       "<matplotlib.lines.Line2D at 0x20c24d4bc08>"
      ]
     },
     "execution_count": 89,
     "metadata": {},
     "output_type": "execute_result"
    },
    {
     "data": {
      "image/png": "[encoded data removed]",
      "text/plain": [
       "<Figure size 432x288 with 1 Axes>"
      ]
     },
     "metadata": {
      "needs_background": "light"
     },
     "output_type": "display_data"
    }
   ],
   "source": [
    "phi = np.array([[-2,-3],[1,2]])\n",
    "x1 = np.array([[25],[12]])\n",
    "\n",
    "L1x = []\n",
    "L1y = []\n",
    "\n",
    "for j in range(L.shape[0]):\n",
    "    L1 = x1 + np.dot(phi,L[j].T)\n",
    "    plt.scatter(L1[0],L1[1],s=5,c='red')\n",
    "    L1x.append(L1[0])\n",
    "    L1y.append(L1[1])\n",
    "    \n",
    "L1 = np.array([Lx,Ly]).T\n",
    "\n",
    "\n",
    "plt.axvline(0, c='black')\n",
    "plt.axhline(0, c='black')"
   ]
  },
  {
   "cell_type": "markdown",
   "metadata": {},
   "source": [
    " "
   ]
  },
  {
   "cell_type": "markdown",
   "metadata": {},
   "source": [
    "<font face=\"微軟正黑\" size=5 >經過affine mapping後，依然為affine subspace"
   ]
  },
  {
   "cell_type": "code",
   "execution_count": 88,
   "metadata": {},
   "outputs": [
    {
     "data": {
      "text/plain": [
       "<matplotlib.lines.Line2D at 0x20c24cf6408>"
      ]
     },
     "execution_count": 88,
     "metadata": {},
     "output_type": "execute_result"
    },
    {
     "data": {
      "image/png": "[encoded data removed]",
      "text/plain": [
       "<Figure size 432x288 with 1 Axes>"
      ]
     },
     "metadata": {
      "needs_background": "light"
     },
     "output_type": "display_data"
    }
   ],
   "source": [
    "plt.scatter(Lx,Ly,s=5,c='blue')\n",
    "plt.scatter(L1x,L1y,s=5,c='red')\n",
    "\n",
    "\n",
    "plt.xlim(-100,100)\n",
    "plt.ylim(-100,100)\n",
    "plt.axvline(0, c='black')\n",
    "plt.axhline(0, c='black')"
   ]
  },
  {
   "cell_type": "code",
   "execution_count": null,
   "metadata": {},
   "outputs": [],
   "source": []
  }
 ],
 "metadata": {
  "kernelspec": {
   "display_name": "Python 3",
   "language": "python",
   "name": "python3"
  },
  "language_info": {
   "codemirror_mode": {
    "name": "ipython",
    "version": 3
   },
   "file_extension": ".py",
   "mimetype": "text/x-python",
   "name": "python",
   "nbconvert_exporter": "python",
   "pygments_lexer": "ipython3",
   "version": "3.7.4"
  }
 },
 "nbformat": 4,
 "nbformat_minor": 2
}
