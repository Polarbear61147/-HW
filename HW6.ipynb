{
 "cells": [
  {
   "cell_type": "code",
   "execution_count": 2,
   "metadata": {},
   "outputs": [],
   "source": [
    "%matplotlib inline\n",
    "import matplotlib.pyplot as plt\n",
    "import numpy as np"
   ]
  },
  {
   "cell_type": "markdown",
   "metadata": {},
   "source": [
    "1. 定義二維平面上的區域S"
   ]
  },
  {
   "cell_type": "code",
   "execution_count": 3,
   "metadata": {},
   "outputs": [],
   "source": [
    "a, b = 0,3\n",
    "c, d = 0,2\n",
    "\n",
    "n = 10\n",
    "x = np.linspace(a, b, n)\n",
    "y = np.linspace(c, d, n)"
   ]
  },
  {
   "cell_type": "code",
   "execution_count": 4,
   "metadata": {
    "scrolled": true
   },
   "outputs": [
    {
     "data": {
      "text/plain": [
       "(-4, 4)"
      ]
     },
     "execution_count": 4,
     "metadata": {},
     "output_type": "execute_result"
    },
    {
     "data": {
      "image/png": "[encoded data removed]",
      "text/plain": [
       "<Figure size 432x288 with 1 Axes>"
      ]
     },
     "metadata": {
      "needs_background": "light"
     },
     "output_type": "display_data"
    }
   ],
   "source": [
    "xx, yy = np.meshgrid(x, y)\n",
    "xx, yy = xx.flatten(), yy.flatten()\n",
    "S_meshgrid = np.vstack([xx, yy])\n",
    "\n",
    "plt.scatter(xx, yy)\n",
    "plt.title('$S$')\n",
    "\n",
    "plt.xlim(-4, 4)\n",
    "plt.ylim(-4, 4)"
   ]
  },
  {
   "cell_type": "markdown",
   "metadata": {},
   "source": []
  },
  {
   "cell_type": "markdown",
   "metadata": {},
   "source": [
    "2.定義線性轉換\n",
    "\n",
    "Φ:R2→R2  定義為\n",
    "Φ(x,y)=(cos(pi/3)x−sin(pi/3)y,sin(pi/3)x+cos(pi/3)y)\n",
    "\n",
    "Φ 的矩陣表示法\n",
    "\n",
    "          cos(pi/3) -sin(pi/3)\n",
    "     AΦ=[                      ]\n",
    "          sin(pi/3) cos(pi/3) "
   ]
  },
  {
   "cell_type": "code",
   "execution_count": 6,
   "metadata": {},
   "outputs": [],
   "source": [
    "#六十度\n",
    "theta = np.pi/3\n",
    "\n",
    "#定義線性轉換(旋轉矩陣)\n",
    "Rotate = np.array([[np.cos(theta),np.sin(theta)*-1],\n",
    "                  [np.sin(theta),np.cos(theta)]])\n",
    "\n",
    "def phi(x):\n",
    "    assert Rotate.shape[1]==x.shape[0], 'incompatible dimension'\n",
    "    return Rotate@x"
   ]
  },
  {
   "cell_type": "markdown",
   "metadata": {},
   "source": [
    "3.畫出 phi(S)"
   ]
  },
  {
   "cell_type": "code",
   "execution_count": 7,
   "metadata": {},
   "outputs": [
    {
     "data": {
      "text/plain": [
       "(-4, 4)"
      ]
     },
     "execution_count": 7,
     "metadata": {},
     "output_type": "execute_result"
    },
    {
     "data": {
      "image/png": "[encoded data removed]",
      "text/plain": [
       "<Figure size 432x288 with 1 Axes>"
      ]
     },
     "metadata": {
      "needs_background": "light"
     },
     "output_type": "display_data"
    }
   ],
   "source": [
    "T = phi(S_meshgrid)\n",
    "u, v = phi(S_meshgrid)\n",
    "\n",
    "plt.scatter(u, v, c='r')\n",
    "plt.xlim(-4, 4)\n",
    "plt.ylim(-4, 4)"
   ]
  },
  {
   "cell_type": "code",
   "execution_count": 8,
   "metadata": {},
   "outputs": [
    {
     "data": {
      "text/plain": [
       "(-4, 4)"
      ]
     },
     "execution_count": 8,
     "metadata": {},
     "output_type": "execute_result"
    },
    {
     "data": {
      "image/png": "[encoded data removed]",
      "text/plain": [
       "<Figure size 432x288 with 1 Axes>"
      ]
     },
     "metadata": {
      "needs_background": "light"
     },
     "output_type": "display_data"
    }
   ],
   "source": [
    "# 將 S 與 psi(S) 畫在一起做比較，並將 S 的透明度降低\n",
    "plt.scatter(xx, yy, alpha=0.5)\n",
    "plt.scatter(u, v, c='r')\n",
    "plt.title('$S$ and $\\Phi(S)$')\n",
    "plt.xlim(-4, 4)\n",
    "plt.ylim(-4, 4)"
   ]
  },
  {
   "cell_type": "code",
   "execution_count": null,
   "metadata": {},
   "outputs": [],
   "source": []
  }
 ],
 "metadata": {
  "kernelspec": {
   "display_name": "Python 3",
   "language": "python",
   "name": "python3"
  },
  "language_info": {
   "codemirror_mode": {
    "name": "ipython",
    "version": 3
   },
   "file_extension": ".py",
   "mimetype": "text/x-python",
   "name": "python",
   "nbconvert_exporter": "python",
   "pygments_lexer": "ipython3",
   "version": "3.7.4"
  }
 },
 "nbformat": 4,
 "nbformat_minor": 2
}
